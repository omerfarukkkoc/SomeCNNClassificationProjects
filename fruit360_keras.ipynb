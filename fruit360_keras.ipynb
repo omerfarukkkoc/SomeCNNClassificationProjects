{
  "nbformat": 4,
  "nbformat_minor": 0,
  "metadata": {
    "colab": {
      "name": "cnn_fruit360.ipynb",
      "version": "0.3.2",
      "provenance": [],
      "collapsed_sections": []
    },
    "kernelspec": {
      "name": "python3",
      "display_name": "Python 3"
    }
  },
  "cells": [
    {
      "cell_type": "code",
      "metadata": {
        "id": "Gt1mVz2APco4",
        "colab_type": "code",
        "colab": {
          "base_uri": "https://localhost:8080/",
          "height": 34
        },
        "outputId": "bc61fe5a-5a7b-4390-8b42-adb84ce455ac"
      },
      "source": [
        "from keras.models import Sequential \n",
        "from keras.layers import Conv2D, MaxPooling2D, Activation, Dropout, Flatten, Dense\n",
        "from keras.preprocessing.image import ImageDataGenerator, img_to_array, load_img\n",
        "import matplotlib.pyplot as plt\n",
        "from glob import glob"
      ],
      "execution_count": 1,
      "outputs": [
        {
          "output_type": "stream",
          "text": [
            "Using TensorFlow backend.\n"
          ],
          "name": "stderr"
        }
      ]
    },
    {
      "cell_type": "code",
      "metadata": {
        "id": "iJiMe5e4V2rg",
        "colab_type": "code",
        "colab": {}
      },
      "source": [
        "train_path = \"fruits-360/Training/\"\n",
        "test_path = \"fruits-360/Test/\""
      ],
      "execution_count": 0,
      "outputs": []
    },
    {
      "cell_type": "code",
      "metadata": {
        "id": "C35jHChOV5Z9",
        "colab_type": "code",
        "colab": {}
      },
      "source": [
        "img = load_img(train_path + \"Apple Braeburn/0_100.jpg\")\n",
        "plt.imshow(img)\n",
        "plt.axis(\"off\")\n",
        "plt.show()"
      ],
      "execution_count": 0,
      "outputs": []
    },
    {
      "cell_type": "code",
      "metadata": {
        "id": "ylnwt46_V84X",
        "colab_type": "code",
        "colab": {}
      },
      "source": [
        "x = img_to_array(img)\n",
        "print(x.shape)"
      ],
      "execution_count": 0,
      "outputs": []
    },
    {
      "cell_type": "code",
      "metadata": {
        "id": "FohEltUbV-Rh",
        "colab_type": "code",
        "colab": {}
      },
      "source": [
        "className = glob(train_path + '/*' )\n",
        "numberOfClass = len(className)\n",
        "print(\"NumberOfClass: \",numberOfClass)"
      ],
      "execution_count": 0,
      "outputs": []
    },
    {
      "cell_type": "code",
      "metadata": {
        "id": "vff-vFiDWAHK",
        "colab_type": "code",
        "colab": {}
      },
      "source": [
        "model = Sequential()\n",
        "model.add(Conv2D(32,(3,3),input_shape = x.shape))\n",
        "model.add(Activation(\"relu\"))\n",
        "model.add(MaxPooling2D())\n",
        "\n",
        "model.add(Conv2D(32,(3,3)))\n",
        "model.add(Activation(\"relu\"))\n",
        "model.add(MaxPooling2D())\n",
        "\n",
        "model.add(Conv2D(64,(3,3)))\n",
        "model.add(Activation(\"relu\"))\n",
        "model.add(MaxPooling2D())\n",
        "\n",
        "model.add(Flatten())\n",
        "model.add(Dense(1024))\n",
        "model.add(Activation(\"relu\"))\n",
        "model.add(Dropout(0.5))\n",
        "model.add(Dense(numberOfClass)) # output\n",
        "model.add(Activation(\"softmax\"))\n",
        "\n",
        "model.compile(loss = \"categorical_crossentropy\",\n",
        "              optimizer = \"rmsprop\",\n",
        "              metrics = [\"accuracy\"])"
      ],
      "execution_count": 0,
      "outputs": []
    },
    {
      "cell_type": "code",
      "metadata": {
        "id": "hvlp3WjGWTdp",
        "colab_type": "code",
        "colab": {}
      },
      "source": [
        "batch_size = 32\n",
        "\n",
        "train_datagen = ImageDataGenerator(rescale= 1./255,\n",
        "                   shear_range = 0.3,\n",
        "                   horizontal_flip=True,\n",
        "                   zoom_range = 0.3)\n",
        "\n",
        "test_datagen = ImageDataGenerator(rescale= 1./255)\n",
        "\n",
        "train_generator = train_datagen.flow_from_directory(\n",
        "        train_path, \n",
        "        target_size=x.shape[:2],\n",
        "        batch_size = batch_size,\n",
        "        color_mode= \"rgb\",\n",
        "        class_mode= \"categorical\")\n",
        "\n",
        "test_generator = test_datagen.flow_from_directory(\n",
        "        test_path, \n",
        "        target_size=x.shape[:2],\n",
        "        batch_size = batch_size,\n",
        "        color_mode= \"rgb\",\n",
        "        class_mode= \"categorical\")"
      ],
      "execution_count": 0,
      "outputs": []
    },
    {
      "cell_type": "code",
      "metadata": {
        "id": "MJOoWmvtWYsH",
        "colab_type": "code",
        "colab": {}
      },
      "source": [
        "hist = model.fit_generator(\n",
        "        generator = train_generator,\n",
        "        steps_per_epoch = 1600 // batch_size,\n",
        "        epochs=100,\n",
        "        validation_data = test_generator,\n",
        "        validation_steps = 800 // batch_size)"
      ],
      "execution_count": 0,
      "outputs": []
    },
    {
      "cell_type": "code",
      "metadata": {
        "id": "S6a5GBqmWavV",
        "colab_type": "code",
        "colab": {}
      },
      "source": [
        "model.save_weights(\"model.h5\")"
      ],
      "execution_count": 0,
      "outputs": []
    },
    {
      "cell_type": "code",
      "metadata": {
        "id": "Tqs7X-u0WdXB",
        "colab_type": "code",
        "colab": {}
      },
      "source": [
        "plt.plot(hist.history[\"loss\"], label = \"Train Loss\")\n",
        "plt.plot(hist.history[\"val_loss\"], label = \"Validation Loss\")\n",
        "plt.legend()\n",
        "plt.show()\n",
        "plt.figure()\n",
        "plt.plot(hist.history[\"acc\"], label = \"Train acc\")\n",
        "plt.plot(hist.history[\"val_acc\"], label = \"Validation acc\")\n",
        "plt.legend()\n",
        "plt.show()\n",
        "plt.savefig(\"cnn_fruit_hist.png\")"
      ],
      "execution_count": 0,
      "outputs": []
    }
  ]
}